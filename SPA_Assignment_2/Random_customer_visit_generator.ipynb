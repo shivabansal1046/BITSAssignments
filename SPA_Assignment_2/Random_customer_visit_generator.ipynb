{
 "cells": [
  {
   "cell_type": "code",
   "execution_count": null,
   "metadata": {},
   "outputs": [],
   "source": [
    "#!pip install kafka-python"
   ]
  },
  {
   "cell_type": "markdown",
   "metadata": {},
   "source": [
    "### To start kafka\n",
    "* C:\\Users\\bansashi\\Desktop\\imp\\softwares\\kafka\\bin\\windows>zookeeper-server-start.bat C:\\Users\\bansashi\\Desktop\\imp\\softwares\\kafka\\config/zookeeper.properties\n",
    "* kafka-server-start.bat C:\\Users\\bansashi\\Desktop\\imp\\softwares\\kafka\\config/server.properties"
   ]
  },
  {
   "cell_type": "markdown",
   "metadata": {},
   "source": [
    "### pushing customer locations to kafka"
   ]
  },
  {
   "cell_type": "code",
   "execution_count": null,
   "metadata": {},
   "outputs": [],
   "source": [
    "from time import sleep  \n",
    "from json import dumps  \n",
    "from kafka import KafkaProducer  \n",
    "\n",
    "import random\n",
    "\n",
    "\n",
    "\n",
    "# initializing the Kafka producer  \n",
    "my_producer = KafkaProducer(  \n",
    "    bootstrap_servers = ['localhost:9092'],  \n",
    "    value_serializer = lambda x:dumps(x).encode('utf-8')  \n",
    "    )  \n",
    "\n",
    "\n",
    "rng = range(1, 50)\n",
    "\n",
    "for n in range(200): \n",
    "    customer_location = (random.choice(rng), random.choice(rng))\n",
    "  \n",
    "    my_data = {\"customerid\" : n, \"coordinates\": [customer_location[0], customer_location[1]]}  \n",
    "    my_producer.send('pizzario_customer_visit', value = my_data)  \n",
    "    sleep(5)  \n",
    "    \n"
   ]
  },
  {
   "cell_type": "code",
   "execution_count": null,
   "metadata": {},
   "outputs": [],
   "source": []
  }
 ],
 "metadata": {
  "kernelspec": {
   "display_name": "Python 3",
   "language": "python",
   "name": "python3"
  },
  "language_info": {
   "codemirror_mode": {
    "name": "ipython",
    "version": 3
   },
   "file_extension": ".py",
   "mimetype": "text/x-python",
   "name": "python",
   "nbconvert_exporter": "python",
   "pygments_lexer": "ipython3",
   "version": "3.8.5"
  }
 },
 "nbformat": 4,
 "nbformat_minor": 4
}
